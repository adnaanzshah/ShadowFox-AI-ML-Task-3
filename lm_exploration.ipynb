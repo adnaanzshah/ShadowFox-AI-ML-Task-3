{
 "cells": [
  {
   "cell_type": "code",
   "execution_count": 1,
   "metadata": {},
   "outputs": [
    {
     "name": "stderr",
     "output_type": "stream",
     "text": [
      "c:\\Users\\ADI\\AppData\\Local\\Programs\\Python\\Python312\\Lib\\site-packages\\tqdm\\auto.py:21: TqdmWarning: IProgress not found. Please update jupyter and ipywidgets. See https://ipywidgets.readthedocs.io/en/stable/user_install.html\n",
      "  from .autonotebook import tqdm as notebook_tqdm\n"
     ]
    }
   ],
   "source": [
    "# Import necessary libraries\n",
    "from transformers import AutoTokenizer, AutoModelForCausalLM\n",
    "import torch\n",
    "import matplotlib.pyplot as plt\n",
    "import seaborn as sns"
   ]
  },
  {
   "cell_type": "code",
   "execution_count": 2,
   "metadata": {},
   "outputs": [],
   "source": [
    "def load_model(model_name=\"gpt2\"):\n",
    "    try:\n",
    "        # Load the tokenizer and model\n",
    "        tokenizer = AutoTokenizer.from_pretrained(model_name)\n",
    "        model = AutoModelForCausalLM.from_pretrained(model_name)\n",
    "        return tokenizer, model\n",
    "    except Exception as e:\n",
    "        print(f\"Error loading model: {e}\")\n",
    "        return None, None"
   ]
  },
  {
   "cell_type": "code",
   "execution_count": 3,
   "metadata": {},
   "outputs": [],
   "source": [
    "def generate_text(prompt, tokenizer, model, max_length=50, temperature=0.7):\n",
    "    # Tokenize the input prompt\n",
    "    inputs = tokenizer(prompt, return_tensors=\"pt\")\n",
    "    \n",
    "    # Adding attention_mask and pad_token_id explicitly\n",
    "    attention_mask = inputs.get(\"attention_mask\", torch.ones(inputs.input_ids.shape, dtype=torch.long))\n",
    "    pad_token_id = tokenizer.eos_token_id  # or a specific pad token if available\n",
    "\n",
    "    # Generate text\n",
    "    outputs = model.generate(\n",
    "        inputs.input_ids,\n",
    "        max_length=max_length,\n",
    "        temperature=temperature,\n",
    "        num_return_sequences=1,\n",
    "        no_repeat_ngram_size=2,\n",
    "        attention_mask=attention_mask,\n",
    "        pad_token_id=pad_token_id\n",
    "    )\n",
    "    \n",
    "    # Decode and return the generated text\n",
    "    return tokenizer.decode(outputs[0], skip_special_tokens=True)"
   ]
  },
  {
   "cell_type": "code",
   "execution_count": 4,
   "metadata": {},
   "outputs": [],
   "source": [
    "# Load pre-trained GPT-2 model and tokenizer\n",
    "tokenizer, model = load_model(\"gpt2\")"
   ]
  },
  {
   "cell_type": "code",
   "execution_count": 5,
   "metadata": {},
   "outputs": [
    {
     "name": "stdout",
     "output_type": "stream",
     "text": [
      "Model and Tokenizer loaded successfully.\n"
     ]
    },
    {
     "name": "stderr",
     "output_type": "stream",
     "text": [
      "c:\\Users\\ADI\\AppData\\Local\\Programs\\Python\\Python312\\Lib\\site-packages\\transformers\\generation\\configuration_utils.py:590: UserWarning: `do_sample` is set to `False`. However, `temperature` is set to `0.7` -- this flag is only used in sample-based generation modes. You should set `do_sample=True` or unset `temperature`.\n",
      "  warnings.warn(\n"
     ]
    },
    {
     "name": "stdout",
     "output_type": "stream",
     "text": [
      "Response: Explain the Central Limit Theorem in simple terms: If the central limit is zero, then the value of the sum of all the values of a given value is equal to the total of those values. If there is no central limiting, the result\n",
      "Prompt 1: Explain the Central Limit Theorem in simple terms:\n",
      "Response 1: Explain the Central Limit Theorem in simple terms: If the central limit is zero, then the value of the sum of all the values of a given value is equal to the total of those values. If there is no central limiting, the result\n",
      "--------------------------------------------------\n",
      "Prompt 2: What are the key differences between RNNs and Transformers?\n",
      "Response 2: What are the key differences between RNNs and Transformers?\n",
      "\n",
      "RNN's are a bit more complex than Transformers. They're not just a set of instructions. RNG is a very simple set. It's a simple, simple program.\n",
      "--------------------------------------------------\n",
      "Prompt 3: Describe the main steps in deploying a machine learning model to production.\n",
      "Response 3: Describe the main steps in deploying a machine learning model to production.\n",
      "\n",
      "The first step is to create a model that can be used to predict the future. The model is then used as a starting point for the next step. This is done\n",
      "--------------------------------------------------\n"
     ]
    },
    {
     "data": {
      "image/png": "[encoded data removed]",
      "text/plain": [
       "<Figure size 1000x600 with 1 Axes>"
      ]
     },
     "metadata": {},
     "output_type": "display_data"
    }
   ],
   "source": [
    "# Ensure model and tokenizer are loaded\n",
    "if tokenizer is None or model is None:\n",
    "    print(\"Model or Tokenizer loading failed. Check your internet connection or try again later.\")\n",
    "else:\n",
    "    print(\"Model and Tokenizer loaded successfully.\")\n",
    "\n",
    "    # Example prompt\n",
    "    prompt = \"Explain the Central Limit Theorem in simple terms:\"\n",
    "    response = generate_text(prompt, tokenizer, model)  # Pass tokenizer and model\n",
    "    print(\"Response:\", response)\n",
    "\n",
    "    # Prompts to analyze\n",
    "    prompts = [\n",
    "        \"Explain the Central Limit Theorem in simple terms:\",\n",
    "        \"What are the key differences between RNNs and Transformers?\",\n",
    "        \"Describe the main steps in deploying a machine learning model to production.\"\n",
    "    ]\n",
    "\n",
    "    # Collect responses (ensure tokenizer and model are passed)\n",
    "    responses = [generate_text(prompt, tokenizer, model) for prompt in prompts]  # Pass tokenizer and model\n",
    "\n",
    "    # Display responses\n",
    "    for i, (prompt, response) in enumerate(zip(prompts, responses)):\n",
    "        print(f\"Prompt {i+1}: {prompt}\")\n",
    "        print(f\"Response {i+1}: {response}\\n{'-'*50}\")\n",
    "\n",
    "    # Visualize response lengths\n",
    "    response_lengths = [len(response) for response in responses]\n",
    "\n",
    "    # Plot response lengths\n",
    "    plt.figure(figsize=(10, 6))\n",
    "    sns.barplot(x=[f\"Prompt {i+1}\" for i in range(len(prompts))], \n",
    "                y=response_lengths, \n",
    "                palette=\"viridis\", \n",
    "                hue=[f\"Prompt {i+1}\" for i in range(len(prompts))],\n",
    "                legend=False)\n",
    "    plt.title(\"Response Lengths for Different Prompts\")\n",
    "    plt.ylabel(\"Length (characters)\")\n",
    "    plt.xlabel(\"Prompts\")\n",
    "    plt.show()"
   ]
  },
  {
   "cell_type": "code",
   "execution_count": null,
   "metadata": {},
   "outputs": [],
   "source": []
  }
 ],
 "metadata": {
  "kernelspec": {
   "display_name": "Python 3",
   "language": "python",
   "name": "python3"
  },
  "language_info": {
   "codemirror_mode": {
    "name": "ipython",
    "version": 3
   },
   "file_extension": ".py",
   "mimetype": "text/x-python",
   "name": "python",
   "nbconvert_exporter": "python",
   "pygments_lexer": "ipython3",
   "version": "3.12.7"
  }
 },
 "nbformat": 4,
 "nbformat_minor": 2
}
